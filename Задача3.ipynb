{
 "cells": [
  {
   "cell_type": "markdown",
   "id": "6d296c98-e2ef-4b8a-bad3-fda42b3c9afd",
   "metadata": {},
   "source": [
    "## Разреженная матрица\n",
    "   Идея: введём параметр, который будет представлять собой ненулевое число элементов в матрице A. Тогда для случая $C_{ij}^{kl} = \\delta_{ij}\\delta_{kl}$ проведём расчёт. \n",
    "   Замечание: далее будет использована функция создания разреженной матрицы со случайно расположенными ненулевыми элементами."
   ]
  },
  {
   "cell_type": "code",
   "execution_count": 3,
   "id": "879b6901-083e-44f3-a725-d3cb02b75cdc",
   "metadata": {},
   "outputs": [],
   "source": [
    "import numpy as np\n",
    "import matplotlib.pyplot as plt\n",
    "import matplotlib.gridspec as gridspec\n",
    "import scipy\n",
    "import math"
   ]
  },
  {
   "cell_type": "code",
   "execution_count": 13,
   "id": "55afcb7a-5f9a-4830-a7c1-dec73aebf44b",
   "metadata": {},
   "outputs": [],
   "source": [
    "def Diag_matrix(sigma, size_row, size_col, alpha):\n",
    "    A = np.zeros((size_row, size_col))\n",
    "    for i in range(min(size_row,size_col)):\n",
    "            A[i,i] = sigma*np.random.randn()\n",
    "    return A"
   ]
  },
  {
   "cell_type": "code",
   "execution_count": 14,
   "id": "d5d0f93f-9d45-4b7c-b753-9b30b1433aac",
   "metadata": {},
   "outputs": [],
   "source": [
    "def sparse_matrix(sigma, size_row, size_col, alpha):\n",
    "\n",
    "    H = sigma*scipy.sparse.random(size_row, size_col, density=alpha/size_row, random_state=None, data_rvs=np.random.randn)\n",
    "    return H.A"
   ]
  },
  {
   "cell_type": "code",
   "execution_count": 15,
   "id": "9134f9ae-da6e-43ec-887b-39856d2befd0",
   "metadata": {},
   "outputs": [],
   "source": [
    "def rho_th(p, sigma, alpha, N):\n",
    "    lam_max = 1/N*alpha*(sigma*(np.sqrt(p)+1))**2\n",
    "    lam_min = 1/N*alpha*(sigma*(np.sqrt(p)-1))**2\n",
    "    lam = np.linspace(lam_min, lam_max, 200)\n",
    "    if lam_min == 0:  # avoid division by 0\n",
    "        lam = lam[1:]\n",
    "    rho = N/2/np.pi/p/alpha/sigma**2*np.sqrt((lam - lam_min)*(lam_max - lam))/lam\n",
    "    \n",
    "    return lam, rho"
   ]
  },
  {
   "cell_type": "code",
   "execution_count": 16,
   "id": "b0752f49-566e-4573-b2b1-6d749505eba1",
   "metadata": {},
   "outputs": [],
   "source": [
    "def g_th(p, sigma):\n",
    "    w_max = sigma*(np.sqrt(p)+1)\n",
    "    w_min = sigma*np.abs(np.sqrt(p)-1)\n",
    "    w = np.linspace(w_min, w_max, 1000)\n",
    "    if w_min == 0:  # avoid division by 0\n",
    "        w = w[1:]\n",
    "    g = 1/np.pi/p/sigma**2*np.sqrt((w**2 - w_min**2)*(w_max**2 - w**2))/w\n",
    "\n",
    "    return w, g"
   ]
  },
  {
   "cell_type": "code",
   "execution_count": 17,
   "id": "0d5c4c44-a234-4411-b4d5-30fb18886ed5",
   "metadata": {},
   "outputs": [],
   "source": [
    "eigval = dict()"
   ]
  },
  {
   "cell_type": "code",
   "execution_count": 45,
   "id": "ab1504bf-53f2-4ead-b609-150438803e28",
   "metadata": {},
   "outputs": [],
   "source": [
    "N = 1000\n",
    "sigma = 1\n",
    "alpha_1 = 80\n",
    "Ks = [N/2, N, 100*N]\n",
    "for K in Ks:\n",
    "#for K in kpm.Progress(Ks):\n",
    "        A = sparse_matrix(sigma, N, int(K), alpha_1)\n",
    "        M = A.dot(A.T)/K\n",
    "        p = N/K\n",
    "        eigval[p] = np.linalg.eigvals(M)"
   ]
  },
  {
   "cell_type": "code",
   "execution_count": 46,
   "id": "a69ca42b-0166-43d8-83f8-f1106191629e",
   "metadata": {},
   "outputs": [
    {
     "data": {
      "image/png": "[encoded data removed]",
      "text/plain": [
       "<Figure size 700x200 with 3 Axes>"
      ]
     },
     "metadata": {},
     "output_type": "display_data"
    }
   ],
   "source": [
    "fig = plt.figure(figsize=(7, 2))\n",
    "gs = gridspec.GridSpec(1, 3)\n",
    "fig.subplots_adjust(0.1, 0.1, 0.9, 0.9, 0.08)\n",
    "\n",
    "Li = [(x,y) for x in Ks for y in alpha_list]\n",
    "\n",
    "for i, K in enumerate(Ks):\n",
    "        ax = fig.add_subplot(gs[i])\n",
    "        p = N/K\n",
    "        plt.hist(eigval[p], bins = int(np.sqrt(N)), density = True, alpha = 0.5, color = 'g', ec='black')\n",
    "        lam, rho = rho_th(p, sigma, alpha_1, N)\n",
    "        plt.plot(lam, rho, color='k', lw=2, label=r'$p=%g$' %p )\n",
    "        plt.legend(loc='upper right', handlelength=0, handletextpad=0, shadow=True)\n",
    "        plt.ylim(0, 1)\n",
    "        plt.xlim(0, None)\n",
    "        plt.xlabel(r'$\\lambda$',fontsize=12)\n",
    "    \n",
    "        if (i==0):\n",
    "            plt.ylabel(r'$\\rho(\\lambda)$',fontsize=12)\n",
    "        else:\n",
    "            plt.setp(ax.get_yticklabels(), visible=False)\n",
    "        \n",
    "    #ax.add_artist(AnchoredText(r'$p=%g$' %p, loc='upper left', frameon=True))"
   ]
  },
  {
   "cell_type": "markdown",
   "id": "a58bf40c-e62e-4b38-b4f5-bcf01c226a65",
   "metadata": {},
   "source": [
    "## Вывод\n",
    "Исходя из полученных результатов, теоретическая плотность, начиная с $\\alpha$ порядка 60, даёт отклонения от гистограммы собственных значений разреженной матрицы. Это возможно связано с тем, что для теории в матрице A все столбцы заполнены $\\alpha$ не нулевыми элементами, а для гистограммы распределение элементов в матрице случайно."
   ]
  },
  {
   "cell_type": "code",
   "execution_count": 142,
   "id": "183799bd-e081-4ab7-a3b2-f8780f10047e",
   "metadata": {},
   "outputs": [
    {
     "name": "stdout",
     "output_type": "stream",
     "text": [
      "0 a e\n",
      "1 a r\n",
      "2 a t\n",
      "3 d e\n",
      "4 d r\n",
      "5 d t\n",
      "1\n"
     ]
    }
   ],
   "source": [
    "rl = ['a','d']\n",
    "rk = ['e','r','t']\n",
    "rkl = [(x,y) for x in rl for y in rk]\n",
    "#for i in range(len(['a','b','c'])*len(['e','r'])):\n",
    " #   for K in ['a','b','c']:\n",
    "  #      for q in ['e','r']:\n",
    "   #         print(i, K, q)\n",
    "for j, (f,g) in enumerate(rkl):\n",
    "    print(j, f, g)\n",
    "print(math.ceil(2/3))"
   ]
  },
  {
   "cell_type": "code",
   "execution_count": null,
   "id": "63e32c08-dbb3-4902-8fe7-b11a3bcd450b",
   "metadata": {},
   "outputs": [],
   "source": []
  }
 ],
 "metadata": {
  "kernelspec": {
   "display_name": "Python 3 (ipykernel)",
   "language": "python",
   "name": "python3"
  },
  "language_info": {
   "codemirror_mode": {
    "name": "ipython",
    "version": 3
   },
   "file_extension": ".py",
   "mimetype": "text/x-python",
   "name": "python",
   "nbconvert_exporter": "python",
   "pygments_lexer": "ipython3",
   "version": "3.11.4"
  }
 },
 "nbformat": 4,
 "nbformat_minor": 5
}
